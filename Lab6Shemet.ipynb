{
 "cells": [
  {
   "cell_type": "code",
   "execution_count": null,
   "id": "641ba5a7-cf0a-4648-ac9d-944e9f701cb4",
   "metadata": {},
   "outputs": [],
   "source": [
    "N = ord(\"A\") %10 + 1\n",
    "N"
   ]
  },
  {
   "cell_type": "code",
   "execution_count": null,
   "id": "7b7aa3bf-9efc-4224-9a71-e22d18402b46",
   "metadata": {},
   "outputs": [],
   "source": [
    "from IPython.display import display, Markdown, HTML\n",
    "\n",
    "display(Markdown('# Йорданія'))\n",
    "\n",
    "display(Markdown('## Загальні відомості'))\n",
    "display(Markdown('**Площа**: *89,342 км²*'))\n",
    "display(Markdown('**Населення**: *11,042,719 людей*'))\n",
    "display(Markdown('**Державний устрій**: *Конституційна монархія*'))\n",
    "display(Markdown('**Столиця**: Амман'))\n",
    "\n",
    "display(Markdown('## Видатні персоналії'))\n",
    "display(Markdown('1. **Король Абдалла II** – чинний король Йорданії, відомий своєю роллю в збереженні стабільності в країні.'))\n",
    "display(Markdown('2. **Королева Ранія** – активістка з прав жінок і дітей, відома на міжнародній арені.'))\n",
    "\n",
    "display(Markdown('## Пам’ятки культури та природи'))\n",
    "display(HTML('<span style=\"color:red\">Петра</span> – стародавнє місто, одне з нових чудес світу.'))\n",
    "display(Markdown('<span style=\"color:green\">Ваді Рам</span>  – мальовничий пустельний регіон.'))\n",
    "display(Markdown('<span style=\"color:blue\">Мертве море</span> – природне солоне озеро.'))\n",
    "\n",
    "display(HTML('<div style=\"border:2px solid black;padding:10px\">Цікаві факти:<br/> Мертве море в Йорданії є найнижчим місцем на землі.<br/> Назва країни Йордан пов’язана з річкою з Біблії.<br/> Столиця Йорданії – одне з найстаріших міст світу. </div>'))\n",
    "\n",
    "display(Markdown('## Таблиця з інформацією'))\n",
    "display(HTML('''\n",
    "<table>\n",
    "<tr><th>Категорія</th><th>Інформація</th></tr>\n",
    "<tr><td>Столиця</td><td>Амман</td></tr>\n",
    "<tr><td>Офіційна мова</td><td>Арабська</td></tr>\n",
    "<tr><td>Валюта</td><td>Йорданський динар (JOD)</td></tr>\n",
    "</table>\n",
    "'''))\n",
    "\n",
    "display(Markdown('## Список'))\n",
    "display(Markdown('- Основні міста:\\n  - Амман\\n  - Зарка\\n  - Ірбід'))\n",
    "\n",
    "display(Markdown('## Картинки'))\n",
    "display(Markdown('### Петра'))\n",
    "display(HTML('<img src=\"https://upload.wikimedia.org/wikipedia/commons/thumb/6/62/Al_Khazneh_Petra_edit_2.jpg/250px-Al_Khazneh_Petra_edit_2.jpg\" width=\"400\"/>'))\n",
    "display(Markdown('### Мертве море'))\n",
    "display(HTML('<img src=\"https://upload.wikimedia.org/wikipedia/commons/thumb/2/2f/Jordan_Dead_sea.jpg/220px-Jordan_Dead_sea.jpg\" width=\"400\"/>'))\n",
    "\n",
    "display(Markdown('## Гіперпосилання'))\n",
    "display(HTML('<a href=\"https://uk.wikipedia.org/wiki/Йорданія\">Детальніше про Йорданію</a>'))\n",
    "\n",
    "display(Markdown('## Прапор Йорданії'))\n",
    "display(HTML('''\n",
    "<svg width=\"300\" height=\"200\">\n",
    "  <rect width=\"300\" height=\"66.6\" fill=\"black\" />\n",
    "  <rect y=\"66.6\" width=\"300\" height=\"66.6\" fill=\"white\" />\n",
    "  <rect y=\"133.2\" width=\"300\" height=\"66.6\" fill=\"green\" />\n",
    "  <polygon points=\"0,0 100,100 0,200\" fill=\"red\" />\n",
    "  <polygon points=\"50,100 55,115 70,115 57,125 62,140 50,130 38,140 43,125 30,115 45,115\" fill=\"white\"/>\n",
    "</svg>\n",
    "'''))\n"
   ]
  },
  {
   "cell_type": "code",
   "execution_count": 3,
   "id": "3b23a4c2-5378-45ee-bade-8a73d93bb655",
   "metadata": {},
   "outputs": [],
   "source": [
    "def task2(a, b):\n",
    "    if a > b:\n",
    "        print(\"Число a має бути меншим або рівним b.\")\n",
    "        return\n",
    "   \n",
    "    def is_prime(n):\n",
    "        if n < 2:\n",
    "            return False\n",
    "        for i in range(2, int(n ** 0.5) + 1):\n",
    "            if n % i == 0:\n",
    "                return False\n",
    "        return True\n",
    "\n",
    "    primes = [x for x in range(a, b + 1) if is_prime(x)]\n",
    "    print(primes)\n"
   ]
  },
  {
   "cell_type": "code",
   "execution_count": 7,
   "id": "c06ba31c-b4e5-4a19-bb22-b44ae64eecd1",
   "metadata": {},
   "outputs": [
    {
     "name": "stdout",
     "output_type": "stream",
     "text": [
      "[2, 3, 5, 7, 11, 13, 17, 19, 23, 29, 31]\n"
     ]
    }
   ],
   "source": [
    "task2(1, 31)"
   ]
  },
  {
   "cell_type": "code",
   "execution_count": null,
   "id": "7026c9d7-27df-4148-a184-fe6c472052f1",
   "metadata": {},
   "outputs": [],
   "source": []
  }
 ],
 "metadata": {
  "kernelspec": {
   "display_name": "Python 3 (ipykernel)",
   "language": "python",
   "name": "python3"
  },
  "language_info": {
   "codemirror_mode": {
    "name": "ipython",
    "version": 3
   },
   "file_extension": ".py",
   "mimetype": "text/x-python",
   "name": "python",
   "nbconvert_exporter": "python",
   "pygments_lexer": "ipython3",
   "version": "3.13.0"
  }
 },
 "nbformat": 4,
 "nbformat_minor": 5
}
